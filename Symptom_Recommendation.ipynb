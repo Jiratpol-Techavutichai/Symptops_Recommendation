{
  "nbformat": 4,
  "nbformat_minor": 0,
  "metadata": {
    "colab": {
      "provenance": [],
      "mount_file_id": "1kd3o9zJJolEk-AZq-LND3sjnvlvw685F",
      "authorship_tag": "ABX9TyP4g4GMYjf7YPsP9Pi1nBez",
      "include_colab_link": true
    },
    "kernelspec": {
      "name": "python3",
      "display_name": "Python 3"
    },
    "language_info": {
      "name": "python"
    }
  },
  "cells": [
    {
      "cell_type": "markdown",
      "metadata": {
        "id": "view-in-github",
        "colab_type": "text"
      },
      "source": [
        "<a href=\"https://colab.research.google.com/github/Jiratpol-Techavutichai/Symptops_Recommendation/blob/main/Symptom_Recommendation.ipynb\" target=\"_parent\"><img src=\"https://colab.research.google.com/assets/colab-badge.svg\" alt=\"Open In Colab\"/></a>"
      ]
    },
    {
      "cell_type": "markdown",
      "source": [
        "# Symptom Recommendation Project"
      ],
      "metadata": {
        "id": "DhRI0gTyhJRn"
      }
    },
    {
      "cell_type": "markdown",
      "source": [
        "## Data Cleaning"
      ],
      "metadata": {
        "id": "wXiWPq2ChRgu"
      }
    },
    {
      "cell_type": "code",
      "source": [
        "import pandas as pd\n",
        "\n",
        "# Import data\n",
        "df = pd.read_excel('/content/drive/MyDrive/Data_set/Agnos.xlsx')\n",
        "\n",
        "df.head()"
      ],
      "metadata": {
        "colab": {
          "base_uri": "https://localhost:8080/",
          "height": 206
        },
        "id": "dGT0YPubXsOs",
        "outputId": "d75e5d0b-3f2a-4647-e63e-6de40079f159"
      },
      "execution_count": 1,
      "outputs": [
        {
          "output_type": "execute_result",
          "data": {
            "text/plain": [
              "   gender  age                                            summary  \\\n",
              "0    male   28  {\"diseases\": [], \"procedures\": [], \"no_symptom...   \n",
              "1    male   27  {\"diseases\": [], \"procedures\": [], \"no_symptom...   \n",
              "2  female   26  {\"diseases\": [], \"procedures\": [], \"no_symptom...   \n",
              "3    male   42  {\"diseases\": [], \"procedures\": [], \"no_symptom...   \n",
              "4  female   40  {\"diseases\": [], \"procedures\": [], \"no_symptom...   \n",
              "\n",
              "     search_term  \n",
              "0    มีเสมหะ, ไอ  \n",
              "1  ไอ, น้ำมูกไหล  \n",
              "2        ปวดท้อง  \n",
              "3      น้ำมูกไหล  \n",
              "4         ตาแห้ง  "
            ],
            "text/html": [
              "\n",
              "  <div id=\"df-274b76bb-2593-468c-b1bd-5767fe5fb896\" class=\"colab-df-container\">\n",
              "    <div>\n",
              "<style scoped>\n",
              "    .dataframe tbody tr th:only-of-type {\n",
              "        vertical-align: middle;\n",
              "    }\n",
              "\n",
              "    .dataframe tbody tr th {\n",
              "        vertical-align: top;\n",
              "    }\n",
              "\n",
              "    .dataframe thead th {\n",
              "        text-align: right;\n",
              "    }\n",
              "</style>\n",
              "<table border=\"1\" class=\"dataframe\">\n",
              "  <thead>\n",
              "    <tr style=\"text-align: right;\">\n",
              "      <th></th>\n",
              "      <th>gender</th>\n",
              "      <th>age</th>\n",
              "      <th>summary</th>\n",
              "      <th>search_term</th>\n",
              "    </tr>\n",
              "  </thead>\n",
              "  <tbody>\n",
              "    <tr>\n",
              "      <th>0</th>\n",
              "      <td>male</td>\n",
              "      <td>28</td>\n",
              "      <td>{\"diseases\": [], \"procedures\": [], \"no_symptom...</td>\n",
              "      <td>มีเสมหะ, ไอ</td>\n",
              "    </tr>\n",
              "    <tr>\n",
              "      <th>1</th>\n",
              "      <td>male</td>\n",
              "      <td>27</td>\n",
              "      <td>{\"diseases\": [], \"procedures\": [], \"no_symptom...</td>\n",
              "      <td>ไอ, น้ำมูกไหล</td>\n",
              "    </tr>\n",
              "    <tr>\n",
              "      <th>2</th>\n",
              "      <td>female</td>\n",
              "      <td>26</td>\n",
              "      <td>{\"diseases\": [], \"procedures\": [], \"no_symptom...</td>\n",
              "      <td>ปวดท้อง</td>\n",
              "    </tr>\n",
              "    <tr>\n",
              "      <th>3</th>\n",
              "      <td>male</td>\n",
              "      <td>42</td>\n",
              "      <td>{\"diseases\": [], \"procedures\": [], \"no_symptom...</td>\n",
              "      <td>น้ำมูกไหล</td>\n",
              "    </tr>\n",
              "    <tr>\n",
              "      <th>4</th>\n",
              "      <td>female</td>\n",
              "      <td>40</td>\n",
              "      <td>{\"diseases\": [], \"procedures\": [], \"no_symptom...</td>\n",
              "      <td>ตาแห้ง</td>\n",
              "    </tr>\n",
              "  </tbody>\n",
              "</table>\n",
              "</div>\n",
              "    <div class=\"colab-df-buttons\">\n",
              "\n",
              "  <div class=\"colab-df-container\">\n",
              "    <button class=\"colab-df-convert\" onclick=\"convertToInteractive('df-274b76bb-2593-468c-b1bd-5767fe5fb896')\"\n",
              "            title=\"Convert this dataframe to an interactive table.\"\n",
              "            style=\"display:none;\">\n",
              "\n",
              "  <svg xmlns=\"http://www.w3.org/2000/svg\" height=\"24px\" viewBox=\"0 -960 960 960\">\n",
              "    <path d=\"M120-120v-720h720v720H120Zm60-500h600v-160H180v160Zm220 220h160v-160H400v160Zm0 220h160v-160H400v160ZM180-400h160v-160H180v160Zm440 0h160v-160H620v160ZM180-180h160v-160H180v160Zm440 0h160v-160H620v160Z\"/>\n",
              "  </svg>\n",
              "    </button>\n",
              "\n",
              "  <style>\n",
              "    .colab-df-container {\n",
              "      display:flex;\n",
              "      gap: 12px;\n",
              "    }\n",
              "\n",
              "    .colab-df-convert {\n",
              "      background-color: #E8F0FE;\n",
              "      border: none;\n",
              "      border-radius: 50%;\n",
              "      cursor: pointer;\n",
              "      display: none;\n",
              "      fill: #1967D2;\n",
              "      height: 32px;\n",
              "      padding: 0 0 0 0;\n",
              "      width: 32px;\n",
              "    }\n",
              "\n",
              "    .colab-df-convert:hover {\n",
              "      background-color: #E2EBFA;\n",
              "      box-shadow: 0px 1px 2px rgba(60, 64, 67, 0.3), 0px 1px 3px 1px rgba(60, 64, 67, 0.15);\n",
              "      fill: #174EA6;\n",
              "    }\n",
              "\n",
              "    .colab-df-buttons div {\n",
              "      margin-bottom: 4px;\n",
              "    }\n",
              "\n",
              "    [theme=dark] .colab-df-convert {\n",
              "      background-color: #3B4455;\n",
              "      fill: #D2E3FC;\n",
              "    }\n",
              "\n",
              "    [theme=dark] .colab-df-convert:hover {\n",
              "      background-color: #434B5C;\n",
              "      box-shadow: 0px 1px 3px 1px rgba(0, 0, 0, 0.15);\n",
              "      filter: drop-shadow(0px 1px 2px rgba(0, 0, 0, 0.3));\n",
              "      fill: #FFFFFF;\n",
              "    }\n",
              "  </style>\n",
              "\n",
              "    <script>\n",
              "      const buttonEl =\n",
              "        document.querySelector('#df-274b76bb-2593-468c-b1bd-5767fe5fb896 button.colab-df-convert');\n",
              "      buttonEl.style.display =\n",
              "        google.colab.kernel.accessAllowed ? 'block' : 'none';\n",
              "\n",
              "      async function convertToInteractive(key) {\n",
              "        const element = document.querySelector('#df-274b76bb-2593-468c-b1bd-5767fe5fb896');\n",
              "        const dataTable =\n",
              "          await google.colab.kernel.invokeFunction('convertToInteractive',\n",
              "                                                    [key], {});\n",
              "        if (!dataTable) return;\n",
              "\n",
              "        const docLinkHtml = 'Like what you see? Visit the ' +\n",
              "          '<a target=\"_blank\" href=https://colab.research.google.com/notebooks/data_table.ipynb>data table notebook</a>'\n",
              "          + ' to learn more about interactive tables.';\n",
              "        element.innerHTML = '';\n",
              "        dataTable['output_type'] = 'display_data';\n",
              "        await google.colab.output.renderOutput(dataTable, element);\n",
              "        const docLink = document.createElement('div');\n",
              "        docLink.innerHTML = docLinkHtml;\n",
              "        element.appendChild(docLink);\n",
              "      }\n",
              "    </script>\n",
              "  </div>\n",
              "\n",
              "\n",
              "    <div id=\"df-69fe9708-a67d-452a-96df-2220733e3811\">\n",
              "      <button class=\"colab-df-quickchart\" onclick=\"quickchart('df-69fe9708-a67d-452a-96df-2220733e3811')\"\n",
              "                title=\"Suggest charts\"\n",
              "                style=\"display:none;\">\n",
              "\n",
              "<svg xmlns=\"http://www.w3.org/2000/svg\" height=\"24px\"viewBox=\"0 0 24 24\"\n",
              "     width=\"24px\">\n",
              "    <g>\n",
              "        <path d=\"M19 3H5c-1.1 0-2 .9-2 2v14c0 1.1.9 2 2 2h14c1.1 0 2-.9 2-2V5c0-1.1-.9-2-2-2zM9 17H7v-7h2v7zm4 0h-2V7h2v10zm4 0h-2v-4h2v4z\"/>\n",
              "    </g>\n",
              "</svg>\n",
              "      </button>\n",
              "\n",
              "<style>\n",
              "  .colab-df-quickchart {\n",
              "      --bg-color: #E8F0FE;\n",
              "      --fill-color: #1967D2;\n",
              "      --hover-bg-color: #E2EBFA;\n",
              "      --hover-fill-color: #174EA6;\n",
              "      --disabled-fill-color: #AAA;\n",
              "      --disabled-bg-color: #DDD;\n",
              "  }\n",
              "\n",
              "  [theme=dark] .colab-df-quickchart {\n",
              "      --bg-color: #3B4455;\n",
              "      --fill-color: #D2E3FC;\n",
              "      --hover-bg-color: #434B5C;\n",
              "      --hover-fill-color: #FFFFFF;\n",
              "      --disabled-bg-color: #3B4455;\n",
              "      --disabled-fill-color: #666;\n",
              "  }\n",
              "\n",
              "  .colab-df-quickchart {\n",
              "    background-color: var(--bg-color);\n",
              "    border: none;\n",
              "    border-radius: 50%;\n",
              "    cursor: pointer;\n",
              "    display: none;\n",
              "    fill: var(--fill-color);\n",
              "    height: 32px;\n",
              "    padding: 0;\n",
              "    width: 32px;\n",
              "  }\n",
              "\n",
              "  .colab-df-quickchart:hover {\n",
              "    background-color: var(--hover-bg-color);\n",
              "    box-shadow: 0 1px 2px rgba(60, 64, 67, 0.3), 0 1px 3px 1px rgba(60, 64, 67, 0.15);\n",
              "    fill: var(--button-hover-fill-color);\n",
              "  }\n",
              "\n",
              "  .colab-df-quickchart-complete:disabled,\n",
              "  .colab-df-quickchart-complete:disabled:hover {\n",
              "    background-color: var(--disabled-bg-color);\n",
              "    fill: var(--disabled-fill-color);\n",
              "    box-shadow: none;\n",
              "  }\n",
              "\n",
              "  .colab-df-spinner {\n",
              "    border: 2px solid var(--fill-color);\n",
              "    border-color: transparent;\n",
              "    border-bottom-color: var(--fill-color);\n",
              "    animation:\n",
              "      spin 1s steps(1) infinite;\n",
              "  }\n",
              "\n",
              "  @keyframes spin {\n",
              "    0% {\n",
              "      border-color: transparent;\n",
              "      border-bottom-color: var(--fill-color);\n",
              "      border-left-color: var(--fill-color);\n",
              "    }\n",
              "    20% {\n",
              "      border-color: transparent;\n",
              "      border-left-color: var(--fill-color);\n",
              "      border-top-color: var(--fill-color);\n",
              "    }\n",
              "    30% {\n",
              "      border-color: transparent;\n",
              "      border-left-color: var(--fill-color);\n",
              "      border-top-color: var(--fill-color);\n",
              "      border-right-color: var(--fill-color);\n",
              "    }\n",
              "    40% {\n",
              "      border-color: transparent;\n",
              "      border-right-color: var(--fill-color);\n",
              "      border-top-color: var(--fill-color);\n",
              "    }\n",
              "    60% {\n",
              "      border-color: transparent;\n",
              "      border-right-color: var(--fill-color);\n",
              "    }\n",
              "    80% {\n",
              "      border-color: transparent;\n",
              "      border-right-color: var(--fill-color);\n",
              "      border-bottom-color: var(--fill-color);\n",
              "    }\n",
              "    90% {\n",
              "      border-color: transparent;\n",
              "      border-bottom-color: var(--fill-color);\n",
              "    }\n",
              "  }\n",
              "</style>\n",
              "\n",
              "      <script>\n",
              "        async function quickchart(key) {\n",
              "          const quickchartButtonEl =\n",
              "            document.querySelector('#' + key + ' button');\n",
              "          quickchartButtonEl.disabled = true;  // To prevent multiple clicks.\n",
              "          quickchartButtonEl.classList.add('colab-df-spinner');\n",
              "          try {\n",
              "            const charts = await google.colab.kernel.invokeFunction(\n",
              "                'suggestCharts', [key], {});\n",
              "          } catch (error) {\n",
              "            console.error('Error during call to suggestCharts:', error);\n",
              "          }\n",
              "          quickchartButtonEl.classList.remove('colab-df-spinner');\n",
              "          quickchartButtonEl.classList.add('colab-df-quickchart-complete');\n",
              "        }\n",
              "        (() => {\n",
              "          let quickchartButtonEl =\n",
              "            document.querySelector('#df-69fe9708-a67d-452a-96df-2220733e3811 button');\n",
              "          quickchartButtonEl.style.display =\n",
              "            google.colab.kernel.accessAllowed ? 'block' : 'none';\n",
              "        })();\n",
              "      </script>\n",
              "    </div>\n",
              "\n",
              "    </div>\n",
              "  </div>\n"
            ],
            "application/vnd.google.colaboratory.intrinsic+json": {
              "type": "dataframe",
              "variable_name": "df",
              "summary": "{\n  \"name\": \"df\",\n  \"rows\": 1000,\n  \"fields\": [\n    {\n      \"column\": \"gender\",\n      \"properties\": {\n        \"dtype\": \"category\",\n        \"num_unique_values\": 2,\n        \"samples\": [\n          \"female\",\n          \"male\"\n        ],\n        \"semantic_type\": \"\",\n        \"description\": \"\"\n      }\n    },\n    {\n      \"column\": \"age\",\n      \"properties\": {\n        \"dtype\": \"number\",\n        \"std\": 13,\n        \"min\": 1,\n        \"max\": 90,\n        \"num_unique_values\": 78,\n        \"samples\": [\n          64,\n          28\n        ],\n        \"semantic_type\": \"\",\n        \"description\": \"\"\n      }\n    },\n    {\n      \"column\": \"summary\",\n      \"properties\": {\n        \"dtype\": \"string\",\n        \"num_unique_values\": 602,\n        \"samples\": [\n          \"{\\\"diseases\\\": [], \\\"procedures\\\": [], \\\"no_symptoms\\\": [], \\\"idk_symptoms\\\": [], \\\"yes_symptoms\\\": [{\\\"text\\\": \\\"\\u0e40\\u0e1b\\u0e47\\u0e19\\u0e44\\u0e02\\u0e49\\\", \\\"answers\\\": [\\\"\\u0e23\\u0e30\\u0e22\\u0e30\\u0e40\\u0e27\\u0e25\\u0e32 1-3 \\u0e27\\u0e31\\u0e19\\\", \\\"\\u0e23\\u0e30\\u0e14\\u0e31\\u0e1a \\u0e44\\u0e21\\u0e48\\u0e17\\u0e23\\u0e32\\u0e1a\\\", \\\"\\u0e1b\\u0e23\\u0e30\\u0e27\\u0e31\\u0e15\\u0e34 ATK \\u0e17\\u0e33\\u0e41\\u0e25\\u0e49\\u0e27 \\u0e44\\u0e14\\u0e49\\u0e1c\\u0e25\\u0e40\\u0e1b\\u0e47\\u0e19\\u0e25\\u0e1a\\\"]}, {\\\"text\\\": \\\"\\u0e01\\u0e32\\u0e23\\u0e23\\u0e31\\u0e01\\u0e29\\u0e32\\u0e01\\u0e48\\u0e2d\\u0e19\\u0e2b\\u0e19\\u0e49\\u0e32\\\", \\\"answers\\\": [\\\"\\u0e01\\u0e32\\u0e23\\u0e23\\u0e31\\u0e01\\u0e29\\u0e32\\u0e01\\u0e48\\u0e2d\\u0e19\\u0e2b\\u0e19\\u0e49\\u0e32 \\u0e44\\u0e21\\u0e48\\u0e40\\u0e04\\u0e22\\\"]}]}\",\n          \"{\\\"diseases\\\": [], \\\"procedures\\\": [], \\\"no_symptoms\\\": [], \\\"idk_symptoms\\\": [], \\\"yes_symptoms\\\": [{\\\"text\\\": \\\"\\u0e1b\\u0e27\\u0e14\\u0e2b\\u0e31\\u0e27\\\", \\\"answers\\\": [\\\"\\u0e23\\u0e30\\u0e14\\u0e31\\u0e1a \\u0e1b\\u0e27\\u0e14\\u0e08\\u0e19\\u0e44\\u0e21\\u0e48\\u0e2a\\u0e32\\u0e21\\u0e32\\u0e23\\u0e16\\u0e17\\u0e33\\u0e01\\u0e34\\u0e08\\u0e01\\u0e23\\u0e23\\u0e21\\u0e43\\u0e14\\u0e43\\u0e14\\u0e44\\u0e14\\u0e49\\u0e40\\u0e25\\u0e22\\\", \\\"\\u0e15\\u0e33\\u0e41\\u0e2b\\u0e19\\u0e48\\u0e07 \\u0e1b\\u0e27\\u0e14\\u0e17\\u0e31\\u0e48\\u0e27\\u0e46\\u0e2b\\u0e31\\u0e27 \\u0e2b\\u0e23\\u0e37\\u0e2d\\u0e1b\\u0e27\\u0e14\\u0e17\\u0e31\\u0e49\\u0e07\\u0e2a\\u0e2d\\u0e07\\u0e02\\u0e49\\u0e32\\u0e07\\u0e2a\\u0e25\\u0e31\\u0e1a\\u0e01\\u0e31\\u0e19\\\"]}, {\\\"text\\\": \\\"\\u0e01\\u0e32\\u0e23\\u0e23\\u0e31\\u0e01\\u0e29\\u0e32\\u0e01\\u0e48\\u0e2d\\u0e19\\u0e2b\\u0e19\\u0e49\\u0e32\\\", \\\"answers\\\": [\\\"\\u0e01\\u0e32\\u0e23\\u0e23\\u0e31\\u0e01\\u0e29\\u0e32\\u0e01\\u0e48\\u0e2d\\u0e19\\u0e2b\\u0e19\\u0e49\\u0e32 \\u0e44\\u0e21\\u0e48\\u0e40\\u0e04\\u0e22\\\"]}]}\"\n        ],\n        \"semantic_type\": \"\",\n        \"description\": \"\"\n      }\n    },\n    {\n      \"column\": \"search_term\",\n      \"properties\": {\n        \"dtype\": \"category\",\n        \"num_unique_values\": 375,\n        \"samples\": [\n          \"\\u0e16\\u0e48\\u0e32\\u0e22\\u0e40\\u0e2b\\u0e25\\u0e27, \\u0e1b\\u0e27\\u0e14\\u0e17\\u0e49\\u0e2d\\u0e07\",\n          \"\\u0e44\\u0e02\\u0e49, \\u0e44\\u0e2d\"\n        ],\n        \"semantic_type\": \"\",\n        \"description\": \"\"\n      }\n    }\n  ]\n}"
            }
          },
          "metadata": {},
          "execution_count": 1
        }
      ]
    },
    {
      "cell_type": "code",
      "source": [
        "df.info()"
      ],
      "metadata": {
        "colab": {
          "base_uri": "https://localhost:8080/"
        },
        "id": "tT97kLzZX9D1",
        "outputId": "398f73db-c34e-460f-dcd1-a5bded0c2669"
      },
      "execution_count": 2,
      "outputs": [
        {
          "output_type": "stream",
          "name": "stdout",
          "text": [
            "<class 'pandas.core.frame.DataFrame'>\n",
            "RangeIndex: 1000 entries, 0 to 999\n",
            "Data columns (total 4 columns):\n",
            " #   Column       Non-Null Count  Dtype \n",
            "---  ------       --------------  ----- \n",
            " 0   gender       1000 non-null   object\n",
            " 1   age          1000 non-null   int64 \n",
            " 2   summary      1000 non-null   object\n",
            " 3   search_term  1000 non-null   object\n",
            "dtypes: int64(1), object(3)\n",
            "memory usage: 31.4+ KB\n"
          ]
        }
      ]
    },
    {
      "cell_type": "code",
      "source": [
        "df.isnull().sum()"
      ],
      "metadata": {
        "colab": {
          "base_uri": "https://localhost:8080/",
          "height": 210
        },
        "id": "5LkPHEwPYEnH",
        "outputId": "56393a93-17f1-48c1-b820-0eceb046da2f"
      },
      "execution_count": 3,
      "outputs": [
        {
          "output_type": "execute_result",
          "data": {
            "text/plain": [
              "gender         0\n",
              "age            0\n",
              "summary        0\n",
              "search_term    0\n",
              "dtype: int64"
            ],
            "text/html": [
              "<div>\n",
              "<style scoped>\n",
              "    .dataframe tbody tr th:only-of-type {\n",
              "        vertical-align: middle;\n",
              "    }\n",
              "\n",
              "    .dataframe tbody tr th {\n",
              "        vertical-align: top;\n",
              "    }\n",
              "\n",
              "    .dataframe thead th {\n",
              "        text-align: right;\n",
              "    }\n",
              "</style>\n",
              "<table border=\"1\" class=\"dataframe\">\n",
              "  <thead>\n",
              "    <tr style=\"text-align: right;\">\n",
              "      <th></th>\n",
              "      <th>0</th>\n",
              "    </tr>\n",
              "  </thead>\n",
              "  <tbody>\n",
              "    <tr>\n",
              "      <th>gender</th>\n",
              "      <td>0</td>\n",
              "    </tr>\n",
              "    <tr>\n",
              "      <th>age</th>\n",
              "      <td>0</td>\n",
              "    </tr>\n",
              "    <tr>\n",
              "      <th>summary</th>\n",
              "      <td>0</td>\n",
              "    </tr>\n",
              "    <tr>\n",
              "      <th>search_term</th>\n",
              "      <td>0</td>\n",
              "    </tr>\n",
              "  </tbody>\n",
              "</table>\n",
              "</div><br><label><b>dtype:</b> int64</label>"
            ]
          },
          "metadata": {},
          "execution_count": 3
        }
      ]
    },
    {
      "cell_type": "markdown",
      "source": [
        "No missing and null values. Next, we will extract symptoms from the column called \"summary\" ."
      ],
      "metadata": {
        "id": "15BdWy_0YNRR"
      }
    },
    {
      "cell_type": "code",
      "execution_count": 4,
      "metadata": {
        "colab": {
          "base_uri": "https://localhost:8080/"
        },
        "id": "QrHJLPmBDWWc",
        "outputId": "a07babb9-218d-4507-c755-74b781d593ad"
      },
      "outputs": [
        {
          "output_type": "stream",
          "name": "stdout",
          "text": [
            "                      all_symptoms\n",
            "0             [ไอ, เสมหะ, มีเสมหะ]\n",
            "1                  [ไอ, น้ำมูกไหล]\n",
            "2                        [ปวดท้อง]\n",
            "3                      [น้ำมูกไหล]\n",
            "4                         [ตาแห้ง]\n",
            "5                      [ปวดกระดูก]\n",
            "6  [ไอ, คันจมูกจามบ่อย, น้ำมูกไหล]\n",
            "7                        [ปวดท้อง]\n",
            "8              [ไอ, เจ็บคอ, คันคอ]\n",
            "9                             [ไอ]\n"
          ]
        }
      ],
      "source": [
        "import json\n",
        "\n",
        "# Extract symptoms from summary\n",
        "def extract_yes_symptoms(summary_json):\n",
        "    try:\n",
        "        summary = json.loads(summary_json)\n",
        "        symptoms = summary.get(\"yes_symptoms\", [])\n",
        "        return [s[\"text\"].strip() for s in symptoms if \"text\" in s]\n",
        "    except Exception as e:\n",
        "        return []\n",
        "\n",
        "df[\"symptoms_extracted\"] = df[\"summary\"].apply(extract_yes_symptoms)\n",
        "\n",
        "# Clean up search_item column\n",
        "df[\"search_symptoms\"] = df[\"search_term\"].fillna(\"\").apply(\n",
        "    lambda x: [s.strip() for s in str(x).split(\",\") if s.strip()]\n",
        ")\n",
        "\n",
        "# Filter unwanted symptoms\n",
        "UNWANTED_SYMPTOMS = {\"การรักษาก่อนหน้า\", \"ประวัติอุบัติเหตุ\", \"Previous treatment\"}\n",
        "\n",
        "\n",
        "# Combine both into\n",
        "df[\"all_symptoms\"] = df.apply(\n",
        "    lambda row: [s for s in set(row[\"symptoms_extracted\"] + row[\"search_symptoms\"]) if s not in UNWANTED_SYMPTOMS],\n",
        "    axis=1\n",
        ")\n",
        "\n",
        "# View cleaned data\n",
        "#print(df[[\"gender\", \"age\", \"search_symptoms\", \"symptoms_extracted\", \"all_symptoms\"]].head(10))\n",
        "print(df[[\"all_symptoms\"]].head(10))\n",
        "\n"
      ]
    },
    {
      "cell_type": "markdown",
      "source": [
        "Noticed minority English words, we will change some of them to Thai."
      ],
      "metadata": {
        "id": "oD4kVy-tYlOa"
      }
    },
    {
      "cell_type": "code",
      "source": [
        "import re\n",
        "\n",
        "# Function to detect if any word in the \"all_symptoms\" contains English letters\n",
        "def contains_english(symptoms):\n",
        "    return any(re.search(r'[a-zA-Z]', symptom) for symptom in symptoms)\n",
        "\n",
        "# Create a new column to identify English containing rows\n",
        "df[\"has_english\"] = df[\"all_symptoms\"].apply(contains_english)\n",
        "\n",
        "# Display rows with English terms\n",
        "english_rows = df[df[\"has_english\"]]\n",
        "\n",
        "print(len(df[df[\"has_english\"]]))\n",
        "print(english_rows[[\"gender\", \"age\", \"all_symptoms\"]].head(10))\n"
      ],
      "metadata": {
        "colab": {
          "base_uri": "https://localhost:8080/"
        },
        "id": "LtJDyEr2LKjV",
        "outputId": "680e3fed-f8d0-4075-eeaf-eda47d7772a9"
      },
      "execution_count": 5,
      "outputs": [
        {
          "output_type": "stream",
          "name": "stdout",
          "text": [
            "81\n",
            "    gender  age                                       all_symptoms\n",
            "13  female   37                                            [Fever]\n",
            "18    male   34                                            [Fever]\n",
            "34    male   67                                         [diarrhea]\n",
            "50    male   68            [diarrhea, abdominal pain, stomachache]\n",
            "52  female    1                                            [Fever]\n",
            "60    male   56                             [straining to urinate]\n",
            "87  female   30                                        [back pain]\n",
            "92    male   59  [wheezing sound, Sore throat, nasal congestion...\n",
            "93  female   23                                            [Dizzy]\n",
            "95    male   33                   [coughLightheaded, Fever, cough]\n"
          ]
        }
      ]
    },
    {
      "cell_type": "code",
      "source": [
        "from collections import Counter\n",
        "\n",
        "english_symptoms = [\n",
        "    symptom\n",
        "    for symptoms in english_rows[\"all_symptoms\"]\n",
        "    for symptom in symptoms\n",
        "    if re.search(r\"[a-zA-Z]\", symptom)\n",
        "]\n",
        "\n",
        "# Count frequency and list top 3\n",
        "top_three = Counter(english_symptoms).most_common(3)\n",
        "\n",
        "# Display\n",
        "print(f\"Top 3 English-containing symptoms:\")\n",
        "for symptom, count in top_three:\n",
        "    print(f\"{symptom}: {count} times\")"
      ],
      "metadata": {
        "colab": {
          "base_uri": "https://localhost:8080/"
        },
        "id": "J49wY9KIaSfw",
        "outputId": "d44ef98b-19b1-4a22-e040-f848a3ec211b"
      },
      "execution_count": 6,
      "outputs": [
        {
          "output_type": "stream",
          "name": "stdout",
          "text": [
            "Top 3 English-containing symptoms:\n",
            "Fever: 20 times\n",
            "cough: 12 times\n",
            "Sore throat: 9 times\n"
          ]
        }
      ]
    },
    {
      "cell_type": "markdown",
      "source": [
        "Found top three, including Fever, cough, and Sore throat"
      ],
      "metadata": {
        "id": "QLhRyL00adEO"
      }
    },
    {
      "cell_type": "code",
      "source": [
        "import pandas as pd\n",
        "import re\n",
        "\n",
        "def replace_english_with_thai(symptoms_list, thai_symptoms):\n",
        "    replaced_symptoms = []\n",
        "    for symptom in symptoms_list:\n",
        "        for english_word, thai_word in thai_symptoms.items():\n",
        "            symptom = re.sub(r'\\b' + re.escape(english_word) + r'\\b', thai_word, symptom)\n",
        "        replaced_symptoms.append(symptom)\n",
        "    return replaced_symptoms\n",
        "\n",
        "# Use dictionary\n",
        "thai_symptoms = {\n",
        "    \"Fever\": \"ไข้\",\n",
        "    \"cough\": \"ไอ\",\n",
        "    \"Sore throat\": \"เจ็บคอ\",\n",
        "    \"sore throat\": \"เจ็บคอ\"\n",
        "}\n",
        "\n",
        "# Function to place English words with Thai in 'all_symptoms'\n",
        "df[\"all_symptoms_thai\"] = df[\"all_symptoms\"].apply(lambda x: replace_english_with_thai(x, thai_symptoms))\n",
        "\n",
        "print(df[[\"all_symptoms_thai\"]].head(15))\n"
      ],
      "metadata": {
        "colab": {
          "base_uri": "https://localhost:8080/"
        },
        "id": "isR6iOYLaYtz",
        "outputId": "c7f9edd7-fe1c-4bee-ff82-09d5e9cb9d74"
      },
      "execution_count": 7,
      "outputs": [
        {
          "output_type": "stream",
          "name": "stdout",
          "text": [
            "                                  all_symptoms_thai\n",
            "0                              [ไอ, เสมหะ, มีเสมหะ]\n",
            "1                                   [ไอ, น้ำมูกไหล]\n",
            "2                                         [ปวดท้อง]\n",
            "3                                       [น้ำมูกไหล]\n",
            "4                                          [ตาแห้ง]\n",
            "5                                       [ปวดกระดูก]\n",
            "6                   [ไอ, คันจมูกจามบ่อย, น้ำมูกไหล]\n",
            "7                                         [ปวดท้อง]\n",
            "8                               [ไอ, เจ็บคอ, คันคอ]\n",
            "9                                              [ไอ]\n",
            "10                                        [อาเจียน]\n",
            "11  [ปวดเมื่อยกล้ามเนื้อ, ปวดเมื่อยกล้ามเนื้อทั่วๆ]\n",
            "12                   [เสมหะไหลลงคอ, เสมหะ, มีเสมหะ]\n",
            "13                                            [ไข้]\n",
            "14                             [คันจมูก, น้ำมูกไหล]\n"
          ]
        }
      ]
    },
    {
      "cell_type": "code",
      "source": [
        "df.head()"
      ],
      "metadata": {
        "colab": {
          "base_uri": "https://localhost:8080/",
          "height": 293
        },
        "id": "uqkDj-9KbHdh",
        "outputId": "8e4c48c4-6218-4aaa-f1ab-5e54421269ec"
      },
      "execution_count": 8,
      "outputs": [
        {
          "output_type": "execute_result",
          "data": {
            "text/plain": [
              "   gender  age                                            summary  \\\n",
              "0    male   28  {\"diseases\": [], \"procedures\": [], \"no_symptom...   \n",
              "1    male   27  {\"diseases\": [], \"procedures\": [], \"no_symptom...   \n",
              "2  female   26  {\"diseases\": [], \"procedures\": [], \"no_symptom...   \n",
              "3    male   42  {\"diseases\": [], \"procedures\": [], \"no_symptom...   \n",
              "4  female   40  {\"diseases\": [], \"procedures\": [], \"no_symptom...   \n",
              "\n",
              "     search_term                 symptoms_extracted  search_symptoms  \\\n",
              "0    มีเสมหะ, ไอ      [เสมหะ, ไอ, การรักษาก่อนหน้า]    [มีเสมหะ, ไอ]   \n",
              "1  ไอ, น้ำมูกไหล  [ไอ, น้ำมูกไหล, การรักษาก่อนหน้า]  [ไอ, น้ำมูกไหล]   \n",
              "2        ปวดท้อง        [ปวดท้อง, การรักษาก่อนหน้า]        [ปวดท้อง]   \n",
              "3      น้ำมูกไหล      [น้ำมูกไหล, การรักษาก่อนหน้า]      [น้ำมูกไหล]   \n",
              "4         ตาแห้ง         [ตาแห้ง, การรักษาก่อนหน้า]         [ตาแห้ง]   \n",
              "\n",
              "           all_symptoms  has_english     all_symptoms_thai  \n",
              "0  [ไอ, เสมหะ, มีเสมหะ]        False  [ไอ, เสมหะ, มีเสมหะ]  \n",
              "1       [ไอ, น้ำมูกไหล]        False       [ไอ, น้ำมูกไหล]  \n",
              "2             [ปวดท้อง]        False             [ปวดท้อง]  \n",
              "3           [น้ำมูกไหล]        False           [น้ำมูกไหล]  \n",
              "4              [ตาแห้ง]        False              [ตาแห้ง]  "
            ],
            "text/html": [
              "\n",
              "  <div id=\"df-23cc710f-ef45-436d-96c3-93e1238a9da6\" class=\"colab-df-container\">\n",
              "    <div>\n",
              "<style scoped>\n",
              "    .dataframe tbody tr th:only-of-type {\n",
              "        vertical-align: middle;\n",
              "    }\n",
              "\n",
              "    .dataframe tbody tr th {\n",
              "        vertical-align: top;\n",
              "    }\n",
              "\n",
              "    .dataframe thead th {\n",
              "        text-align: right;\n",
              "    }\n",
              "</style>\n",
              "<table border=\"1\" class=\"dataframe\">\n",
              "  <thead>\n",
              "    <tr style=\"text-align: right;\">\n",
              "      <th></th>\n",
              "      <th>gender</th>\n",
              "      <th>age</th>\n",
              "      <th>summary</th>\n",
              "      <th>search_term</th>\n",
              "      <th>symptoms_extracted</th>\n",
              "      <th>search_symptoms</th>\n",
              "      <th>all_symptoms</th>\n",
              "      <th>has_english</th>\n",
              "      <th>all_symptoms_thai</th>\n",
              "    </tr>\n",
              "  </thead>\n",
              "  <tbody>\n",
              "    <tr>\n",
              "      <th>0</th>\n",
              "      <td>male</td>\n",
              "      <td>28</td>\n",
              "      <td>{\"diseases\": [], \"procedures\": [], \"no_symptom...</td>\n",
              "      <td>มีเสมหะ, ไอ</td>\n",
              "      <td>[เสมหะ, ไอ, การรักษาก่อนหน้า]</td>\n",
              "      <td>[มีเสมหะ, ไอ]</td>\n",
              "      <td>[ไอ, เสมหะ, มีเสมหะ]</td>\n",
              "      <td>False</td>\n",
              "      <td>[ไอ, เสมหะ, มีเสมหะ]</td>\n",
              "    </tr>\n",
              "    <tr>\n",
              "      <th>1</th>\n",
              "      <td>male</td>\n",
              "      <td>27</td>\n",
              "      <td>{\"diseases\": [], \"procedures\": [], \"no_symptom...</td>\n",
              "      <td>ไอ, น้ำมูกไหล</td>\n",
              "      <td>[ไอ, น้ำมูกไหล, การรักษาก่อนหน้า]</td>\n",
              "      <td>[ไอ, น้ำมูกไหล]</td>\n",
              "      <td>[ไอ, น้ำมูกไหล]</td>\n",
              "      <td>False</td>\n",
              "      <td>[ไอ, น้ำมูกไหล]</td>\n",
              "    </tr>\n",
              "    <tr>\n",
              "      <th>2</th>\n",
              "      <td>female</td>\n",
              "      <td>26</td>\n",
              "      <td>{\"diseases\": [], \"procedures\": [], \"no_symptom...</td>\n",
              "      <td>ปวดท้อง</td>\n",
              "      <td>[ปวดท้อง, การรักษาก่อนหน้า]</td>\n",
              "      <td>[ปวดท้อง]</td>\n",
              "      <td>[ปวดท้อง]</td>\n",
              "      <td>False</td>\n",
              "      <td>[ปวดท้อง]</td>\n",
              "    </tr>\n",
              "    <tr>\n",
              "      <th>3</th>\n",
              "      <td>male</td>\n",
              "      <td>42</td>\n",
              "      <td>{\"diseases\": [], \"procedures\": [], \"no_symptom...</td>\n",
              "      <td>น้ำมูกไหล</td>\n",
              "      <td>[น้ำมูกไหล, การรักษาก่อนหน้า]</td>\n",
              "      <td>[น้ำมูกไหล]</td>\n",
              "      <td>[น้ำมูกไหล]</td>\n",
              "      <td>False</td>\n",
              "      <td>[น้ำมูกไหล]</td>\n",
              "    </tr>\n",
              "    <tr>\n",
              "      <th>4</th>\n",
              "      <td>female</td>\n",
              "      <td>40</td>\n",
              "      <td>{\"diseases\": [], \"procedures\": [], \"no_symptom...</td>\n",
              "      <td>ตาแห้ง</td>\n",
              "      <td>[ตาแห้ง, การรักษาก่อนหน้า]</td>\n",
              "      <td>[ตาแห้ง]</td>\n",
              "      <td>[ตาแห้ง]</td>\n",
              "      <td>False</td>\n",
              "      <td>[ตาแห้ง]</td>\n",
              "    </tr>\n",
              "  </tbody>\n",
              "</table>\n",
              "</div>\n",
              "    <div class=\"colab-df-buttons\">\n",
              "\n",
              "  <div class=\"colab-df-container\">\n",
              "    <button class=\"colab-df-convert\" onclick=\"convertToInteractive('df-23cc710f-ef45-436d-96c3-93e1238a9da6')\"\n",
              "            title=\"Convert this dataframe to an interactive table.\"\n",
              "            style=\"display:none;\">\n",
              "\n",
              "  <svg xmlns=\"http://www.w3.org/2000/svg\" height=\"24px\" viewBox=\"0 -960 960 960\">\n",
              "    <path d=\"M120-120v-720h720v720H120Zm60-500h600v-160H180v160Zm220 220h160v-160H400v160Zm0 220h160v-160H400v160ZM180-400h160v-160H180v160Zm440 0h160v-160H620v160ZM180-180h160v-160H180v160Zm440 0h160v-160H620v160Z\"/>\n",
              "  </svg>\n",
              "    </button>\n",
              "\n",
              "  <style>\n",
              "    .colab-df-container {\n",
              "      display:flex;\n",
              "      gap: 12px;\n",
              "    }\n",
              "\n",
              "    .colab-df-convert {\n",
              "      background-color: #E8F0FE;\n",
              "      border: none;\n",
              "      border-radius: 50%;\n",
              "      cursor: pointer;\n",
              "      display: none;\n",
              "      fill: #1967D2;\n",
              "      height: 32px;\n",
              "      padding: 0 0 0 0;\n",
              "      width: 32px;\n",
              "    }\n",
              "\n",
              "    .colab-df-convert:hover {\n",
              "      background-color: #E2EBFA;\n",
              "      box-shadow: 0px 1px 2px rgba(60, 64, 67, 0.3), 0px 1px 3px 1px rgba(60, 64, 67, 0.15);\n",
              "      fill: #174EA6;\n",
              "    }\n",
              "\n",
              "    .colab-df-buttons div {\n",
              "      margin-bottom: 4px;\n",
              "    }\n",
              "\n",
              "    [theme=dark] .colab-df-convert {\n",
              "      background-color: #3B4455;\n",
              "      fill: #D2E3FC;\n",
              "    }\n",
              "\n",
              "    [theme=dark] .colab-df-convert:hover {\n",
              "      background-color: #434B5C;\n",
              "      box-shadow: 0px 1px 3px 1px rgba(0, 0, 0, 0.15);\n",
              "      filter: drop-shadow(0px 1px 2px rgba(0, 0, 0, 0.3));\n",
              "      fill: #FFFFFF;\n",
              "    }\n",
              "  </style>\n",
              "\n",
              "    <script>\n",
              "      const buttonEl =\n",
              "        document.querySelector('#df-23cc710f-ef45-436d-96c3-93e1238a9da6 button.colab-df-convert');\n",
              "      buttonEl.style.display =\n",
              "        google.colab.kernel.accessAllowed ? 'block' : 'none';\n",
              "\n",
              "      async function convertToInteractive(key) {\n",
              "        const element = document.querySelector('#df-23cc710f-ef45-436d-96c3-93e1238a9da6');\n",
              "        const dataTable =\n",
              "          await google.colab.kernel.invokeFunction('convertToInteractive',\n",
              "                                                    [key], {});\n",
              "        if (!dataTable) return;\n",
              "\n",
              "        const docLinkHtml = 'Like what you see? Visit the ' +\n",
              "          '<a target=\"_blank\" href=https://colab.research.google.com/notebooks/data_table.ipynb>data table notebook</a>'\n",
              "          + ' to learn more about interactive tables.';\n",
              "        element.innerHTML = '';\n",
              "        dataTable['output_type'] = 'display_data';\n",
              "        await google.colab.output.renderOutput(dataTable, element);\n",
              "        const docLink = document.createElement('div');\n",
              "        docLink.innerHTML = docLinkHtml;\n",
              "        element.appendChild(docLink);\n",
              "      }\n",
              "    </script>\n",
              "  </div>\n",
              "\n",
              "\n",
              "    <div id=\"df-2d37f07b-d5dc-43ba-8e9e-001f79055e19\">\n",
              "      <button class=\"colab-df-quickchart\" onclick=\"quickchart('df-2d37f07b-d5dc-43ba-8e9e-001f79055e19')\"\n",
              "                title=\"Suggest charts\"\n",
              "                style=\"display:none;\">\n",
              "\n",
              "<svg xmlns=\"http://www.w3.org/2000/svg\" height=\"24px\"viewBox=\"0 0 24 24\"\n",
              "     width=\"24px\">\n",
              "    <g>\n",
              "        <path d=\"M19 3H5c-1.1 0-2 .9-2 2v14c0 1.1.9 2 2 2h14c1.1 0 2-.9 2-2V5c0-1.1-.9-2-2-2zM9 17H7v-7h2v7zm4 0h-2V7h2v10zm4 0h-2v-4h2v4z\"/>\n",
              "    </g>\n",
              "</svg>\n",
              "      </button>\n",
              "\n",
              "<style>\n",
              "  .colab-df-quickchart {\n",
              "      --bg-color: #E8F0FE;\n",
              "      --fill-color: #1967D2;\n",
              "      --hover-bg-color: #E2EBFA;\n",
              "      --hover-fill-color: #174EA6;\n",
              "      --disabled-fill-color: #AAA;\n",
              "      --disabled-bg-color: #DDD;\n",
              "  }\n",
              "\n",
              "  [theme=dark] .colab-df-quickchart {\n",
              "      --bg-color: #3B4455;\n",
              "      --fill-color: #D2E3FC;\n",
              "      --hover-bg-color: #434B5C;\n",
              "      --hover-fill-color: #FFFFFF;\n",
              "      --disabled-bg-color: #3B4455;\n",
              "      --disabled-fill-color: #666;\n",
              "  }\n",
              "\n",
              "  .colab-df-quickchart {\n",
              "    background-color: var(--bg-color);\n",
              "    border: none;\n",
              "    border-radius: 50%;\n",
              "    cursor: pointer;\n",
              "    display: none;\n",
              "    fill: var(--fill-color);\n",
              "    height: 32px;\n",
              "    padding: 0;\n",
              "    width: 32px;\n",
              "  }\n",
              "\n",
              "  .colab-df-quickchart:hover {\n",
              "    background-color: var(--hover-bg-color);\n",
              "    box-shadow: 0 1px 2px rgba(60, 64, 67, 0.3), 0 1px 3px 1px rgba(60, 64, 67, 0.15);\n",
              "    fill: var(--button-hover-fill-color);\n",
              "  }\n",
              "\n",
              "  .colab-df-quickchart-complete:disabled,\n",
              "  .colab-df-quickchart-complete:disabled:hover {\n",
              "    background-color: var(--disabled-bg-color);\n",
              "    fill: var(--disabled-fill-color);\n",
              "    box-shadow: none;\n",
              "  }\n",
              "\n",
              "  .colab-df-spinner {\n",
              "    border: 2px solid var(--fill-color);\n",
              "    border-color: transparent;\n",
              "    border-bottom-color: var(--fill-color);\n",
              "    animation:\n",
              "      spin 1s steps(1) infinite;\n",
              "  }\n",
              "\n",
              "  @keyframes spin {\n",
              "    0% {\n",
              "      border-color: transparent;\n",
              "      border-bottom-color: var(--fill-color);\n",
              "      border-left-color: var(--fill-color);\n",
              "    }\n",
              "    20% {\n",
              "      border-color: transparent;\n",
              "      border-left-color: var(--fill-color);\n",
              "      border-top-color: var(--fill-color);\n",
              "    }\n",
              "    30% {\n",
              "      border-color: transparent;\n",
              "      border-left-color: var(--fill-color);\n",
              "      border-top-color: var(--fill-color);\n",
              "      border-right-color: var(--fill-color);\n",
              "    }\n",
              "    40% {\n",
              "      border-color: transparent;\n",
              "      border-right-color: var(--fill-color);\n",
              "      border-top-color: var(--fill-color);\n",
              "    }\n",
              "    60% {\n",
              "      border-color: transparent;\n",
              "      border-right-color: var(--fill-color);\n",
              "    }\n",
              "    80% {\n",
              "      border-color: transparent;\n",
              "      border-right-color: var(--fill-color);\n",
              "      border-bottom-color: var(--fill-color);\n",
              "    }\n",
              "    90% {\n",
              "      border-color: transparent;\n",
              "      border-bottom-color: var(--fill-color);\n",
              "    }\n",
              "  }\n",
              "</style>\n",
              "\n",
              "      <script>\n",
              "        async function quickchart(key) {\n",
              "          const quickchartButtonEl =\n",
              "            document.querySelector('#' + key + ' button');\n",
              "          quickchartButtonEl.disabled = true;  // To prevent multiple clicks.\n",
              "          quickchartButtonEl.classList.add('colab-df-spinner');\n",
              "          try {\n",
              "            const charts = await google.colab.kernel.invokeFunction(\n",
              "                'suggestCharts', [key], {});\n",
              "          } catch (error) {\n",
              "            console.error('Error during call to suggestCharts:', error);\n",
              "          }\n",
              "          quickchartButtonEl.classList.remove('colab-df-spinner');\n",
              "          quickchartButtonEl.classList.add('colab-df-quickchart-complete');\n",
              "        }\n",
              "        (() => {\n",
              "          let quickchartButtonEl =\n",
              "            document.querySelector('#df-2d37f07b-d5dc-43ba-8e9e-001f79055e19 button');\n",
              "          quickchartButtonEl.style.display =\n",
              "            google.colab.kernel.accessAllowed ? 'block' : 'none';\n",
              "        })();\n",
              "      </script>\n",
              "    </div>\n",
              "\n",
              "    </div>\n",
              "  </div>\n"
            ],
            "application/vnd.google.colaboratory.intrinsic+json": {
              "type": "dataframe",
              "variable_name": "df",
              "summary": "{\n  \"name\": \"df\",\n  \"rows\": 1000,\n  \"fields\": [\n    {\n      \"column\": \"gender\",\n      \"properties\": {\n        \"dtype\": \"category\",\n        \"num_unique_values\": 2,\n        \"samples\": [\n          \"female\",\n          \"male\"\n        ],\n        \"semantic_type\": \"\",\n        \"description\": \"\"\n      }\n    },\n    {\n      \"column\": \"age\",\n      \"properties\": {\n        \"dtype\": \"number\",\n        \"std\": 13,\n        \"min\": 1,\n        \"max\": 90,\n        \"num_unique_values\": 78,\n        \"samples\": [\n          64,\n          28\n        ],\n        \"semantic_type\": \"\",\n        \"description\": \"\"\n      }\n    },\n    {\n      \"column\": \"summary\",\n      \"properties\": {\n        \"dtype\": \"string\",\n        \"num_unique_values\": 602,\n        \"samples\": [\n          \"{\\\"diseases\\\": [], \\\"procedures\\\": [], \\\"no_symptoms\\\": [], \\\"idk_symptoms\\\": [], \\\"yes_symptoms\\\": [{\\\"text\\\": \\\"\\u0e40\\u0e1b\\u0e47\\u0e19\\u0e44\\u0e02\\u0e49\\\", \\\"answers\\\": [\\\"\\u0e23\\u0e30\\u0e22\\u0e30\\u0e40\\u0e27\\u0e25\\u0e32 1-3 \\u0e27\\u0e31\\u0e19\\\", \\\"\\u0e23\\u0e30\\u0e14\\u0e31\\u0e1a \\u0e44\\u0e21\\u0e48\\u0e17\\u0e23\\u0e32\\u0e1a\\\", \\\"\\u0e1b\\u0e23\\u0e30\\u0e27\\u0e31\\u0e15\\u0e34 ATK \\u0e17\\u0e33\\u0e41\\u0e25\\u0e49\\u0e27 \\u0e44\\u0e14\\u0e49\\u0e1c\\u0e25\\u0e40\\u0e1b\\u0e47\\u0e19\\u0e25\\u0e1a\\\"]}, {\\\"text\\\": \\\"\\u0e01\\u0e32\\u0e23\\u0e23\\u0e31\\u0e01\\u0e29\\u0e32\\u0e01\\u0e48\\u0e2d\\u0e19\\u0e2b\\u0e19\\u0e49\\u0e32\\\", \\\"answers\\\": [\\\"\\u0e01\\u0e32\\u0e23\\u0e23\\u0e31\\u0e01\\u0e29\\u0e32\\u0e01\\u0e48\\u0e2d\\u0e19\\u0e2b\\u0e19\\u0e49\\u0e32 \\u0e44\\u0e21\\u0e48\\u0e40\\u0e04\\u0e22\\\"]}]}\",\n          \"{\\\"diseases\\\": [], \\\"procedures\\\": [], \\\"no_symptoms\\\": [], \\\"idk_symptoms\\\": [], \\\"yes_symptoms\\\": [{\\\"text\\\": \\\"\\u0e1b\\u0e27\\u0e14\\u0e2b\\u0e31\\u0e27\\\", \\\"answers\\\": [\\\"\\u0e23\\u0e30\\u0e14\\u0e31\\u0e1a \\u0e1b\\u0e27\\u0e14\\u0e08\\u0e19\\u0e44\\u0e21\\u0e48\\u0e2a\\u0e32\\u0e21\\u0e32\\u0e23\\u0e16\\u0e17\\u0e33\\u0e01\\u0e34\\u0e08\\u0e01\\u0e23\\u0e23\\u0e21\\u0e43\\u0e14\\u0e43\\u0e14\\u0e44\\u0e14\\u0e49\\u0e40\\u0e25\\u0e22\\\", \\\"\\u0e15\\u0e33\\u0e41\\u0e2b\\u0e19\\u0e48\\u0e07 \\u0e1b\\u0e27\\u0e14\\u0e17\\u0e31\\u0e48\\u0e27\\u0e46\\u0e2b\\u0e31\\u0e27 \\u0e2b\\u0e23\\u0e37\\u0e2d\\u0e1b\\u0e27\\u0e14\\u0e17\\u0e31\\u0e49\\u0e07\\u0e2a\\u0e2d\\u0e07\\u0e02\\u0e49\\u0e32\\u0e07\\u0e2a\\u0e25\\u0e31\\u0e1a\\u0e01\\u0e31\\u0e19\\\"]}, {\\\"text\\\": \\\"\\u0e01\\u0e32\\u0e23\\u0e23\\u0e31\\u0e01\\u0e29\\u0e32\\u0e01\\u0e48\\u0e2d\\u0e19\\u0e2b\\u0e19\\u0e49\\u0e32\\\", \\\"answers\\\": [\\\"\\u0e01\\u0e32\\u0e23\\u0e23\\u0e31\\u0e01\\u0e29\\u0e32\\u0e01\\u0e48\\u0e2d\\u0e19\\u0e2b\\u0e19\\u0e49\\u0e32 \\u0e44\\u0e21\\u0e48\\u0e40\\u0e04\\u0e22\\\"]}]}\"\n        ],\n        \"semantic_type\": \"\",\n        \"description\": \"\"\n      }\n    },\n    {\n      \"column\": \"search_term\",\n      \"properties\": {\n        \"dtype\": \"category\",\n        \"num_unique_values\": 375,\n        \"samples\": [\n          \"\\u0e16\\u0e48\\u0e32\\u0e22\\u0e40\\u0e2b\\u0e25\\u0e27, \\u0e1b\\u0e27\\u0e14\\u0e17\\u0e49\\u0e2d\\u0e07\",\n          \"\\u0e44\\u0e02\\u0e49, \\u0e44\\u0e2d\"\n        ],\n        \"semantic_type\": \"\",\n        \"description\": \"\"\n      }\n    },\n    {\n      \"column\": \"symptoms_extracted\",\n      \"properties\": {\n        \"dtype\": \"object\",\n        \"semantic_type\": \"\",\n        \"description\": \"\"\n      }\n    },\n    {\n      \"column\": \"search_symptoms\",\n      \"properties\": {\n        \"dtype\": \"object\",\n        \"semantic_type\": \"\",\n        \"description\": \"\"\n      }\n    },\n    {\n      \"column\": \"all_symptoms\",\n      \"properties\": {\n        \"dtype\": \"object\",\n        \"semantic_type\": \"\",\n        \"description\": \"\"\n      }\n    },\n    {\n      \"column\": \"has_english\",\n      \"properties\": {\n        \"dtype\": \"boolean\",\n        \"num_unique_values\": 2,\n        \"samples\": [\n          true,\n          false\n        ],\n        \"semantic_type\": \"\",\n        \"description\": \"\"\n      }\n    },\n    {\n      \"column\": \"all_symptoms_thai\",\n      \"properties\": {\n        \"dtype\": \"object\",\n        \"semantic_type\": \"\",\n        \"description\": \"\"\n      }\n    }\n  ]\n}"
            }
          },
          "metadata": {},
          "execution_count": 8
        }
      ]
    },
    {
      "cell_type": "markdown",
      "source": [
        "## Builidng Model"
      ],
      "metadata": {
        "id": "MC56xWoFhWp0"
      }
    },
    {
      "cell_type": "markdown",
      "source": [
        "Now, we are ready to proceed the training. Applying TF - IDF, common technique in Natural Language Processing , is perfectly suit to our problem."
      ],
      "metadata": {
        "id": "lVqWO0xDLWNs"
      }
    },
    {
      "cell_type": "code",
      "source": [
        "import pickle\n",
        "from sklearn.feature_extraction.text import TfidfVectorizer\n",
        "\n",
        "# Use preprocessed Thai-only symptoms column\n",
        "df[\"joined_symptoms\"] = df[\"all_symptoms_thai\"].apply(lambda x: \" \".join(x) if isinstance(x, list) else \"\")\n",
        "\n",
        "# Create TF-IDF vectorizer\n",
        "vectorizer = TfidfVectorizer()\n",
        "X = vectorizer.fit_transform(df[\"joined_symptoms\"])\n",
        "\n",
        "# Save TF-IDF matrix, vectorizer, and original data\n",
        "with open(\"symptom_model.pkl\", \"wb\") as f:\n",
        "    pickle.dump({\n",
        "        \"vectorizer\": vectorizer,\n",
        "        \"matrix\": X,\n",
        "        \"data\": df\n",
        "    }, f)"
      ],
      "metadata": {
        "id": "cXh5hdUAbhHN"
      },
      "execution_count": 9,
      "outputs": []
    },
    {
      "cell_type": "markdown",
      "source": [
        "## Predicting Result"
      ],
      "metadata": {
        "id": "lwgQ5aG1heJ4"
      }
    },
    {
      "cell_type": "code",
      "source": [
        "import pickle\n",
        "from sklearn.metrics.pairwise import cosine_similarity\n",
        "import numpy as np\n",
        "\n",
        "# Load model\n",
        "with open(\"symptom_model.pkl\", \"rb\") as f:\n",
        "    model = pickle.load(f)\n",
        "\n",
        "vectorizer = model[\"vectorizer\"]\n",
        "matrix = model[\"matrix\"]\n",
        "data = model[\"data\"]\n",
        "\n",
        "def recommend_symptoms(user_input, top_k=5):\n",
        "    user_vec = vectorizer.transform([user_input])\n",
        "    similarities = cosine_similarity(user_vec, matrix).flatten()\n",
        "    top_indices = np.argsort(similarities)[-top_k:][::-1]\n",
        "\n",
        "    results = data.iloc[top_indices][[\"gender\", \"age\", \"all_symptoms_thai\"]]\n",
        "    results[\"similarity\"] = similarities[top_indices]\n",
        "    return results\n",
        "\n",
        "# Example usage\n",
        "if __name__ == \"__main__\":\n",
        "    user_input = input(\"Enter symptoms (Thai, space-separated): \")\n",
        "    recommendations = recommend_symptoms(user_input)\n",
        "    print(recommendations)\n"
      ],
      "metadata": {
        "colab": {
          "base_uri": "https://localhost:8080/"
        },
        "id": "eDZkTRoqb2hN",
        "outputId": "43d805c1-ace6-4299-dc8b-08e1ccad659f"
      },
      "execution_count": 10,
      "outputs": [
        {
          "output_type": "stream",
          "name": "stdout",
          "text": [
            "Enter symptoms (Thai, space-separated): เจ็บคอ น้ำมูก\n",
            "     gender  age    all_symptoms_thai  similarity\n",
            "359  female   35  [เจ็บคอ, น้ำมูกไหล]    0.857009\n",
            "817  female   45             [เจ็บคอ]    0.808661\n",
            "25     male   34             [เจ็บคอ]    0.808661\n",
            "32     male   65             [เจ็บคอ]    0.808661\n",
            "26   female   34             [เจ็บคอ]    0.808661\n"
          ]
        }
      ]
    },
    {
      "cell_type": "markdown",
      "source": [
        "## Implement FastAPI symptom recommender API using ngrok"
      ],
      "metadata": {
        "id": "SdpNvDwZqNJ4"
      }
    },
    {
      "cell_type": "code",
      "source": [
        "!pip install fastapi uvicorn nest-asyncio pyngrok"
      ],
      "metadata": {
        "colab": {
          "base_uri": "https://localhost:8080/"
        },
        "id": "isQ-pG7qgJyS",
        "outputId": "ede1712e-182d-46dc-cda5-2f560dd2dedd"
      },
      "execution_count": 12,
      "outputs": [
        {
          "output_type": "stream",
          "name": "stdout",
          "text": [
            "Collecting fastapi\n",
            "  Downloading fastapi-0.115.12-py3-none-any.whl.metadata (27 kB)\n",
            "Collecting uvicorn\n",
            "  Downloading uvicorn-0.34.2-py3-none-any.whl.metadata (6.5 kB)\n",
            "Requirement already satisfied: nest-asyncio in /usr/local/lib/python3.11/dist-packages (1.6.0)\n",
            "Collecting pyngrok\n",
            "  Downloading pyngrok-7.2.8-py3-none-any.whl.metadata (10 kB)\n",
            "Collecting starlette<0.47.0,>=0.40.0 (from fastapi)\n",
            "  Downloading starlette-0.46.2-py3-none-any.whl.metadata (6.2 kB)\n",
            "Requirement already satisfied: pydantic!=1.8,!=1.8.1,!=2.0.0,!=2.0.1,!=2.1.0,<3.0.0,>=1.7.4 in /usr/local/lib/python3.11/dist-packages (from fastapi) (2.11.4)\n",
            "Requirement already satisfied: typing-extensions>=4.8.0 in /usr/local/lib/python3.11/dist-packages (from fastapi) (4.13.2)\n",
            "Requirement already satisfied: click>=7.0 in /usr/local/lib/python3.11/dist-packages (from uvicorn) (8.1.8)\n",
            "Requirement already satisfied: h11>=0.8 in /usr/local/lib/python3.11/dist-packages (from uvicorn) (0.16.0)\n",
            "Requirement already satisfied: PyYAML>=5.1 in /usr/local/lib/python3.11/dist-packages (from pyngrok) (6.0.2)\n",
            "Requirement already satisfied: annotated-types>=0.6.0 in /usr/local/lib/python3.11/dist-packages (from pydantic!=1.8,!=1.8.1,!=2.0.0,!=2.0.1,!=2.1.0,<3.0.0,>=1.7.4->fastapi) (0.7.0)\n",
            "Requirement already satisfied: pydantic-core==2.33.2 in /usr/local/lib/python3.11/dist-packages (from pydantic!=1.8,!=1.8.1,!=2.0.0,!=2.0.1,!=2.1.0,<3.0.0,>=1.7.4->fastapi) (2.33.2)\n",
            "Requirement already satisfied: typing-inspection>=0.4.0 in /usr/local/lib/python3.11/dist-packages (from pydantic!=1.8,!=1.8.1,!=2.0.0,!=2.0.1,!=2.1.0,<3.0.0,>=1.7.4->fastapi) (0.4.0)\n",
            "Requirement already satisfied: anyio<5,>=3.6.2 in /usr/local/lib/python3.11/dist-packages (from starlette<0.47.0,>=0.40.0->fastapi) (4.9.0)\n",
            "Requirement already satisfied: idna>=2.8 in /usr/local/lib/python3.11/dist-packages (from anyio<5,>=3.6.2->starlette<0.47.0,>=0.40.0->fastapi) (3.10)\n",
            "Requirement already satisfied: sniffio>=1.1 in /usr/local/lib/python3.11/dist-packages (from anyio<5,>=3.6.2->starlette<0.47.0,>=0.40.0->fastapi) (1.3.1)\n",
            "Downloading fastapi-0.115.12-py3-none-any.whl (95 kB)\n",
            "\u001b[2K   \u001b[90m━━━━━━━━━━━━━━━━━━━━━━━━━━━━━━━━━━━━━━━━\u001b[0m \u001b[32m95.2/95.2 kB\u001b[0m \u001b[31m7.1 MB/s\u001b[0m eta \u001b[36m0:00:00\u001b[0m\n",
            "\u001b[?25hDownloading uvicorn-0.34.2-py3-none-any.whl (62 kB)\n",
            "\u001b[2K   \u001b[90m━━━━━━━━━━━━━━━━━━━━━━━━━━━━━━━━━━━━━━━━\u001b[0m \u001b[32m62.5/62.5 kB\u001b[0m \u001b[31m4.5 MB/s\u001b[0m eta \u001b[36m0:00:00\u001b[0m\n",
            "\u001b[?25hDownloading pyngrok-7.2.8-py3-none-any.whl (25 kB)\n",
            "Downloading starlette-0.46.2-py3-none-any.whl (72 kB)\n",
            "\u001b[2K   \u001b[90m━━━━━━━━━━━━━━━━━━━━━━━━━━━━━━━━━━━━━━━━\u001b[0m \u001b[32m72.0/72.0 kB\u001b[0m \u001b[31m5.3 MB/s\u001b[0m eta \u001b[36m0:00:00\u001b[0m\n",
            "\u001b[?25hInstalling collected packages: uvicorn, pyngrok, starlette, fastapi\n",
            "Successfully installed fastapi-0.115.12 pyngrok-7.2.8 starlette-0.46.2 uvicorn-0.34.2\n"
          ]
        }
      ]
    },
    {
      "cell_type": "code",
      "source": [
        "!ngrok config add-authtoken 2x5InTeHiwUQCs7mBaiJgCjx4D5_55H25Kfg8U6frjHztvE1W"
      ],
      "metadata": {
        "colab": {
          "base_uri": "https://localhost:8080/"
        },
        "id": "pa81VIXSiIRG",
        "outputId": "f4415382-8ddb-448b-c092-1162eec251ac"
      },
      "execution_count": 13,
      "outputs": [
        {
          "output_type": "stream",
          "name": "stdout",
          "text": [
            "Authtoken saved to configuration file: /root/.config/ngrok/ngrok.yml\n"
          ]
        }
      ]
    },
    {
      "cell_type": "code",
      "source": [
        "from fastapi import FastAPI\n",
        "from pydantic import BaseModel\n",
        "import pandas as pd\n",
        "import numpy as np\n",
        "from sklearn.metrics.pairwise import cosine_similarity\n",
        "import pickle\n",
        "from pyngrok import ngrok\n",
        "import nest_asyncio\n",
        "import uvicorn\n",
        "\n",
        "# Load model\n",
        "with open(\"symptom_model.pkl\", \"rb\") as f:\n",
        "    model = pickle.load(f)\n",
        "\n",
        "vectorizer = model[\"vectorizer\"]\n",
        "matrix = model[\"matrix\"]\n",
        "data = model[\"data\"]\n",
        "\n",
        "# FastAPI app\n",
        "app = FastAPI(title=\"Symptom Recommender API\")\n",
        "\n",
        "class SymptomRequest(BaseModel):\n",
        "    symptoms: str\n",
        "    top_k: int = 5\n",
        "\n",
        "@app.get(\"/\")\n",
        "def home():\n",
        "    return {\"message\": \"Welcome to the Symptom Recommender API!\"}\n",
        "\n",
        "@app.post(\"/recommend\")\n",
        "def get_recommendations(req: SymptomRequest):\n",
        "    user_vec = vectorizer.transform([req.symptoms])\n",
        "    similarities = cosine_similarity(user_vec, matrix).flatten()\n",
        "    top_indices = np.argsort(similarities)[-req.top_k:][::-1]\n",
        "    results = data.iloc[top_indices].copy()\n",
        "    results[\"similarity\"] = similarities[top_indices]\n",
        "    return results[[\"gender\", \"age\", \"all_symptoms_thai\", \"similarity\"]].to_dict(orient=\"records\")\n"
      ],
      "metadata": {
        "id": "4rZIZQhxguHT"
      },
      "execution_count": 14,
      "outputs": []
    },
    {
      "cell_type": "code",
      "source": [
        "# Apply nested async support\n",
        "nest_asyncio.apply()\n",
        "\n",
        "# Open tunnel on port 8000\n",
        "public_url = ngrok.connect(8000)\n",
        "print(f\"🌐 Public URL: {public_url}\")\n",
        "\n",
        "# Run FastAPI app\n",
        "uvicorn.run(app, host=\"0.0.0.0\", port=8000)\n"
      ],
      "metadata": {
        "colab": {
          "base_uri": "https://localhost:8080/"
        },
        "id": "7A77oEGfmfQ-",
        "outputId": "1b960312-220b-4011-d96a-b61d58154301"
      },
      "execution_count": 15,
      "outputs": [
        {
          "output_type": "stream",
          "name": "stdout",
          "text": [
            "🌐 Public URL: NgrokTunnel: \"https://77ab-34-48-129-136.ngrok-free.app\" -> \"http://localhost:8000\"\n"
          ]
        },
        {
          "output_type": "stream",
          "name": "stderr",
          "text": [
            "INFO:     Started server process [159]\n",
            "INFO:     Waiting for application startup.\n",
            "INFO:     Application startup complete.\n",
            "INFO:     Uvicorn running on http://0.0.0.0:8000 (Press CTRL+C to quit)\n"
          ]
        },
        {
          "output_type": "stream",
          "name": "stdout",
          "text": [
            "INFO:     2001:fb1:15:3058:e4d8:76e7:3489:d14e:0 - \"GET /docs HTTP/1.1\" 200 OK\n",
            "INFO:     2001:fb1:15:3058:e4d8:76e7:3489:d14e:0 - \"GET /openapi.json HTTP/1.1\" 200 OK\n"
          ]
        },
        {
          "output_type": "stream",
          "name": "stderr",
          "text": [
            "INFO:     Shutting down\n",
            "INFO:     Waiting for application shutdown.\n",
            "INFO:     Application shutdown complete.\n",
            "INFO:     Finished server process [159]\n"
          ]
        }
      ]
    },
    {
      "cell_type": "markdown",
      "source": [
        "Run the above cell to get the Public URL, then add /docs at the end to open Swagger UI, like https://77ab-34-48-129-136.ngrok-free.app/docs.\n",
        "\n",
        "\n",
        "Then, input some sample at the \\recommend, such as\n",
        "{\n",
        "  \"symptoms\": \"ไข้ ปวดหัว\",\n",
        "  \"top_k\": 5\n",
        "}"
      ],
      "metadata": {
        "id": "kVeOQWXvn0Bd"
      }
    }
  ]
}